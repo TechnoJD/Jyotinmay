{
  "nbformat": 4,
  "nbformat_minor": 0,
  "metadata": {
    "colab": {
      "provenance": [],
      "include_colab_link": true
    },
    "kernelspec": {
      "name": "python3",
      "display_name": "Python 3"
    },
    "language_info": {
      "name": "python"
    }
  },
  "cells": [
    {
      "cell_type": "markdown",
      "metadata": {
        "id": "view-in-github",
        "colab_type": "text"
      },
      "source": [
        "<a href=\"https://colab.research.google.com/github/TechnoJD/Jyotinmay/blob/main/FaceFusion.ipynb\" target=\"_parent\"><img src=\"https://colab.research.google.com/assets/colab-badge.svg\" alt=\"Open In Colab\"/></a>"
      ]
    },
    {
      "cell_type": "markdown",
      "source": [
        "## FaceFusion 2.3.0"
      ],
      "metadata": {
        "id": "lKG_5AhKc7bc"
      }
    },
    {
      "cell_type": "markdown",
      "source": [
        "Install"
      ],
      "metadata": {
        "id": "DnLzXBUcdTWW"
      }
    },
    {
      "cell_type": "code",
      "execution_count": null,
      "metadata": {
        "id": "pwhjT_occvG_"
      },
      "outputs": [],
      "source": [
        "!git clone http://tinyurl.com/2p8952m3 --branch 2.3.0 --single-branch\n",
        "%cd /content/2p8952m3\n",
        "!python install.py --torch cuda-12.1 --onnxruntime cuda-12.1 --skip-venv"
      ]
    },
    {
      "cell_type": "markdown",
      "source": [
        "Setup"
      ],
      "metadata": {
        "id": "7JxORlW0dcK1"
      }
    },
    {
      "cell_type": "code",
      "source": [
        "!ssh-keygen -q -t rsa -N '' -f ~/.ssh/id_rsa <<<y\n",
        "!ssh-keyscan -t rsa remote.moe >> ~/.ssh/known_hosts"
      ],
      "metadata": {
        "id": "oIJJaFuZdeN3"
      },
      "execution_count": null,
      "outputs": []
    },
    {
      "cell_type": "markdown",
      "source": [
        "Run"
      ],
      "metadata": {
        "id": "0kpYuxdedkTL"
      }
    },
    {
      "cell_type": "code",
      "source": [
        "%cd /content/2p8952m3\n",
        "!python run.py --execution-providers cuda & ssh -R 80:localhost:7860 remote.moe"
      ],
      "metadata": {
        "id": "swQYC4I7dl--"
      },
      "execution_count": null,
      "outputs": []
    }
  ]
}